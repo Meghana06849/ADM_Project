{
  "nbformat": 4,
  "nbformat_minor": 0,
  "metadata": {
    "colab": {
      "provenance": [],
      "authorship_tag": "ABX9TyNTjpb81YUYWiapCFfgMjn/",
      "include_colab_link": true
    },
    "kernelspec": {
      "name": "python3",
      "display_name": "Python 3"
    },
    "language_info": {
      "name": "python"
    }
  },
  "cells": [
    {
      "cell_type": "markdown",
      "metadata": {
        "id": "view-in-github",
        "colab_type": "text"
      },
      "source": [
        "<a href=\"https://colab.research.google.com/github/Meghana06849/ADM_Project/blob/main/Demographic_Data_Analyzer.ipynb\" target=\"_parent\"><img src=\"https://colab.research.google.com/assets/colab-badge.svg\" alt=\"Open In Colab\"/></a>"
      ]
    },
    {
      "cell_type": "code",
      "execution_count": null,
      "metadata": {
        "id": "RgFTqy9x-8aw"
      },
      "outputs": [],
      "source": [
        "import pandas as pd\n",
        "\n",
        "def calculate_demographic_data(print_data=True):\n",
        "    # Load data\n",
        "    df = pd.read_csv('adult.data.csv')\n",
        "\n",
        "    # 1. Race count\n",
        "    race_count = df['race'].value_counts()\n",
        "\n",
        "    # 2. Average age of men\n",
        "    average_age_men = round(df[df['sex'] == 'Male']['age'].mean(), 1)\n",
        "\n",
        "    # 3. Percentage with a Bachelor's degree\n",
        "    percentage_bachelors = round((df['education'] == 'Bachelors').mean() * 100, 1)\n",
        "\n",
        "    # 4. Advanced education & salary >50K\n",
        "    advanced_education = ['Bachelors', 'Masters', 'Doctorate']\n",
        "    adv_edu_df = df[df['education'].isin(advanced_education)]\n",
        "    lower_edu_df = df[~df['education'].isin(advanced_education)]\n",
        "\n",
        "    higher_education_rich = round((adv_edu_df['salary'] == '>50K').mean() * 100, 1)\n",
        "    lower_education_rich = round((lower_edu_df['salary'] == '>50K').mean() * 100, 1)\n",
        "\n",
        "    # 5. Min work hours per week\n",
        "    min_work_hours = df['hours-per-week'].min()\n",
        "\n",
        "    # 6. Rich % among those who work min hours\n",
        "    num_min_workers = df[df['hours-per-week'] == min_work_hours]\n",
        "    rich_percentage = round((num_min_workers['salary'] == '>50K').mean() * 100, 1)\n",
        "\n",
        "    # 7. Country with highest % of rich people\n",
        "    country_counts = df['native-country'].value_counts()\n",
        "    country_rich_counts = df[df['salary'] == '>50K']['native-country'].value_counts()\n",
        "    country_rich_percentage = (country_rich_counts / country_counts * 100).dropna()\n",
        "    highest_earning_country = country_rich_percentage.idxmax()\n",
        "    highest_earning_country_percentage = round(country_rich_percentage.max(), 1)\n",
        "\n",
        "    # 8. Top occupation in India among >50K\n",
        "    india_rich = df[(df['native-country'] == 'India') & (df['salary'] == '>50K')]\n",
        "    top_IN_occupation = india_rich['occupation'].value_counts().idxmax()\n",
        "\n",
        "    # Output dictionary\n",
        "    result = {\n",
        "        'race_count': race_count,\n",
        "        'average_age_men': average_age_men,\n",
        "        'percentage_bachelors': percentage_bachelors,\n",
        "        'higher_education_rich': higher_education_rich,\n",
        "        'lower_education_rich': lower_education_rich,\n",
        "        'min_work_hours': min_work_hours,\n",
        "        'rich_percentage': rich_percentage,\n",
        "        'highest_earning_country': highest_earning_country,\n",
        "        'highest_earning_country_percentage': highest_earning_country_percentage,\n",
        "        'top_IN_occupation': top_IN_occupation\n",
        "    }\n",
        "\n",
        "    # Optional print for dev/test\n",
        "    if print_data:\n",
        "        for key, value in result.items():\n",
        "            print(f\"{key}: {value}\")\n",
        "\n",
        "    return result\n"
      ]
    }
  ]
}