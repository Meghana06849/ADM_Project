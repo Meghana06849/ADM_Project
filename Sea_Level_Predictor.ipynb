{
  "nbformat": 4,
  "nbformat_minor": 0,
  "metadata": {
    "colab": {
      "provenance": [],
      "authorship_tag": "ABX9TyMge4YBkAFKOGEwp3Uf2xC9",
      "include_colab_link": true
    },
    "kernelspec": {
      "name": "python3",
      "display_name": "Python 3"
    },
    "language_info": {
      "name": "python"
    }
  },
  "cells": [
    {
      "cell_type": "markdown",
      "metadata": {
        "id": "view-in-github",
        "colab_type": "text"
      },
      "source": [
        "<a href=\"https://colab.research.google.com/github/Meghana06849/ADM_Project/blob/main/Sea_Level_Predictor.ipynb\" target=\"_parent\"><img src=\"https://colab.research.google.com/assets/colab-badge.svg\" alt=\"Open In Colab\"/></a>"
      ]
    },
    {
      "cell_type": "code",
      "execution_count": 1,
      "metadata": {
        "id": "3AcgatbWDaNV"
      },
      "outputs": [],
      "source": [
        "import pandas as pd\n",
        "import matplotlib.pyplot as plt\n",
        "from scipy.stats import linregress\n",
        "\n",
        "def draw_plot():\n",
        "    # 1. Read data\n",
        "    df = pd.read_csv('epa-sea-level.csv')\n",
        "\n",
        "    # 2. Create scatter plot\n",
        "    plt.figure(figsize=(10, 6))\n",
        "    plt.scatter(df['Year'], df['CSIRO Adjusted Sea Level'], label='Observed Data')\n",
        "\n",
        "    # 3. First line of best fit (1880–2050)\n",
        "    res = linregress(df['Year'], df['CSIRO Adjusted Sea Level'])\n",
        "    x_pred = pd.Series(range(1880, 2051))\n",
        "    y_pred = res.slope * x_pred + res.intercept\n",
        "    plt.plot(x_pred, y_pred, 'r', label='Best Fit Line (1880–2050)')\n",
        "\n",
        "    # 4. Second line of best fit (2000–2050)\n",
        "    df_recent = df[df['Year'] >= 2000]\n",
        "    res_recent = linregress(df_recent['Year'], df_recent['CSIRO Adjusted Sea Level'])\n",
        "    x_recent = pd.Series(range(2000, 2051))\n",
        "    y_recent = res_recent.slope * x_recent + res_recent.intercept\n",
        "    plt.plot(x_recent, y_recent, 'g', label='Best Fit Line (2000–2050)')\n",
        "\n",
        "    # 5. Add labels and title\n",
        "    plt.xlabel('Year')\n",
        "    plt.ylabel('Sea Level (inches)')\n",
        "    plt.title('Rise in Sea Level')\n",
        "    plt.legend()\n",
        "\n",
        "    # 6. Save and return plot\n",
        "    plt.savefig('sea_level_plot.png')\n",
        "    return plt.gca()\n"
      ]
    }
  ]
}