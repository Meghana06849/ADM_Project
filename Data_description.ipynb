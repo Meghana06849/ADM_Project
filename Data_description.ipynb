{
  "nbformat": 4,
  "nbformat_minor": 0,
  "metadata": {
    "colab": {
      "provenance": [],
      "authorship_tag": "ABX9TyNivMB4Wx61lNXpxHNiACDx",
      "include_colab_link": true
    },
    "kernelspec": {
      "name": "python3",
      "display_name": "Python 3"
    },
    "language_info": {
      "name": "python"
    }
  },
  "cells": [
    {
      "cell_type": "markdown",
      "metadata": {
        "id": "view-in-github",
        "colab_type": "text"
      },
      "source": [
        "<a href=\"https://colab.research.google.com/github/Meghana06849/ADM_Project/blob/main/Data_description.ipynb\" target=\"_parent\"><img src=\"https://colab.research.google.com/assets/colab-badge.svg\" alt=\"Open In Colab\"/></a>"
      ]
    },
    {
      "cell_type": "code",
      "source": [
        "import pandas as pd\n",
        "import seaborn as sns\n",
        "import matplotlib.pyplot as plt\n",
        "import numpy as np\n",
        "\n",
        "# 1. Import data\n",
        "df = pd.read_csv('medical_examination.csv')\n",
        "\n",
        "# 2. Add 'overweight' column\n",
        "df['overweight'] = (df['weight'] / ((df['height'] / 100) ** 2) > 25).astype(int)\n",
        "\n",
        "# 3. Normalize data (0 = good, 1 = bad)\n",
        "df['cholesterol'] = (df['cholesterol'] > 1).astype(int)\n",
        "df['gluc'] = (df['gluc'] > 1).astype(int)\n",
        "\n",
        "# 4. Draw Categorical Plot\n",
        "def draw_cat_plot():\n",
        "    # 5. Create DataFrame for cat plot using pd.melt\n",
        "    df_cat = pd.melt(df,\n",
        "                     id_vars=['cardio'],\n",
        "                     value_vars=['cholesterol', 'gluc', 'smoke', 'alco', 'active', 'overweight'])\n",
        "\n",
        "    # 6. Group and reformat data\n",
        "    df_cat = df_cat.groupby(['cardio', 'variable', 'value'], as_index=False).size().rename(columns={'size': 'total'})\n",
        "\n",
        "    # 7. Plot using sns.catplot()\n",
        "    fig = sns.catplot(x='variable', y='total', hue='value', col='cardio', kind='bar', data=df_cat).fig\n",
        "\n",
        "    return fig\n",
        "\n",
        "# 8. Draw Heat Map\n",
        "def draw_heat_map():\n",
        "    # 9. Clean the data\n",
        "    df_heat = df[\n",
        "        (df['ap_lo'] <= df['ap_hi']) &\n",
        "        (df['height'] >= df['height'].quantile(0.025)) &\n",
        "        (df['height'] <= df['height'].quantile(0.975)) &\n",
        "        (df['weight'] >= df['weight'].quantile(0.025)) &\n",
        "        (df['weight'] <= df['weight'].quantile(0.975))\n",
        "    ]\n",
        "\n",
        "    # 10. Calculate correlation matrix\n",
        "    corr = df_heat.corr()\n",
        "\n",
        "    # 11. Generate mask for upper triangle\n",
        "    mask = np.triu(np.ones_like(corr, dtype=bool))\n",
        "\n",
        "    # 12. Set up matplotlib figure\n",
        "    fig, ax = plt.subplots(figsize=(12, 10))\n",
        "\n",
        "    # 13. Draw heatmap\n",
        "    sns.heatmap(corr, mask=mask, annot=True, fmt=\".1f\", center=0, square=True, linewidths=0.5, cbar_kws={\"shrink\": 0.5})\n",
        "\n",
        "    return fig\n"
      ],
      "metadata": {
        "id": "XUk1JBs7BJH-"
      },
      "execution_count": null,
      "outputs": []
    }
  ]
}