{
  "nbformat": 4,
  "nbformat_minor": 0,
  "metadata": {
    "colab": {
      "provenance": [],
      "authorship_tag": "ABX9TyP4qLDRpPkcGhYQiibqmeVJ",
      "include_colab_link": true
    },
    "kernelspec": {
      "name": "python3",
      "display_name": "Python 3"
    },
    "language_info": {
      "name": "python"
    }
  },
  "cells": [
    {
      "cell_type": "markdown",
      "metadata": {
        "id": "view-in-github",
        "colab_type": "text"
      },
      "source": [
        "<a href=\"https://colab.research.google.com/github/Meghana06849/ADM_Project/blob/main/Mean_Variance_Standard_Deviation_Calculator.ipynb\" target=\"_parent\"><img src=\"https://colab.research.google.com/assets/colab-badge.svg\" alt=\"Open In Colab\"/></a>"
      ]
    },
    {
      "cell_type": "code",
      "execution_count": null,
      "metadata": {
        "id": "c306KE---LPK"
      },
      "outputs": [],
      "source": [
        "import numpy as np\n",
        "\n",
        "def calculate(input_list):\n",
        "    if len(input_list) != 9:\n",
        "        raise ValueError(\"List must contain nine numbers.\")\n",
        "\n",
        "    # Convert list into a 3x3 NumPy array\n",
        "    matrix = np.array(input_list).reshape(3, 3)\n",
        "\n",
        "    # Define a helper function to convert arrays to lists\n",
        "    def aslist(x):\n",
        "        return x.tolist() if isinstance(x, np.ndarray) else x\n",
        "\n",
        "    # Calculate required statistics\n",
        "    calculations = {\n",
        "        'mean': [\n",
        "            aslist(np.mean(matrix, axis=0)),     # column-wise\n",
        "            aslist(np.mean(matrix, axis=1)),     # row-wise\n",
        "            aslist(np.mean(matrix))              # flattened\n",
        "        ],\n",
        "        'variance': [\n",
        "            aslist(np.var(matrix, axis=0)),\n",
        "            aslist(np.var(matrix, axis=1)),\n",
        "            aslist(np.var(matrix))\n",
        "        ],\n",
        "        'standard deviation': [\n",
        "            aslist(np.std(matrix, axis=0)),\n",
        "            aslist(np.std(matrix, axis=1)),\n",
        "            aslist(np.std(matrix))\n",
        "        ],\n",
        "        'max': [\n",
        "            aslist(np.max(matrix, axis=0)),\n",
        "            aslist(np.max(matrix, axis=1)),\n",
        "            aslist(np.max(matrix))\n",
        "        ],\n",
        "        'min': [\n",
        "            aslist(np.min(matrix, axis=0)),\n",
        "            aslist(np.min(matrix, axis=1)),\n",
        "            aslist(np.min(matrix))\n",
        "        ],\n",
        "        'sum': [\n",
        "            aslist(np.sum(matrix, axis=0)),\n",
        "            aslist(np.sum(matrix, axis=1)),\n",
        "            aslist(np.sum(matrix))\n",
        "        ]\n",
        "    }\n",
        "\n",
        "    return calculations\n"
      ]
    }
  ]
}